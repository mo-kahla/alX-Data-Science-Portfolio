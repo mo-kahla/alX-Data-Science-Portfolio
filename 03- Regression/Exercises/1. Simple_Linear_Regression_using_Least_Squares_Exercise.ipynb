{
 "cells": [
  {
   "cell_type": "markdown",
   "id": "cd88ea27",
   "metadata": {},
   "source": [
    "<div align=\"center\" style=\" font-size: 80%; text-align: center; margin: 0 auto\">\n",
    "<img src=\"https://raw.githubusercontent.com/Explore-AI/Pictures/master/Python-Notebook-Banners/Exercise.png\"  style=\"display: block; margin-left: auto; margin-right: auto;\";/>\n",
    "</div>"
   ]
  },
  {
   "cell_type": "markdown",
   "id": "f662d169",
   "metadata": {},
   "source": [
    "# Exercise: Simple linear regression using least squares \n",
    "© ExploreAI Academy"
   ]
  },
  {
   "cell_type": "markdown",
   "id": "26af890c",
   "metadata": {},
   "source": [
    "In this exercise, we create linear regression models, evaluate the fit of the model, and make predictions.\n"
   ]
  },
  {
   "cell_type": "markdown",
   "id": "2d230d14",
   "metadata": {
    "tags": []
   },
   "source": [
    "## Learning objectives\n",
    "\n",
    "By the end of this train, we will:\n",
    "- Know how to develop linear regression models in Python and make predictions.\n",
    "- Know how to assess the performance of a linear regression model."
   ]
  },
  {
   "cell_type": "markdown",
   "id": "de45a481",
   "metadata": {},
   "source": [
    "## Exercises"
   ]
  },
  {
   "cell_type": "markdown",
   "id": "5a0b7683",
   "metadata": {
    "tags": []
   },
   "source": [
    "### Exercise 1\n",
    "\n",
    "An environmental research group is examining how the average temperature of a day (in degrees Celsius) affects the energy output of solar panels (kWh produced). Your task is to visualise this relationship to determine if linear regression would be a suitable model.\n",
    "\n",
    "1. Create two NumPy arrays named `average_temperature` and `solar_output` with the provided data.\n",
    "2. Use `matplotlib` to create a scatter plot of average temperature (X-axis) against solar panel output (Y-axis).\n",
    "3. Title your plot as \"`Average temperature vs. Solar panel output`\" and label the axes appropriately.\n",
    "4. Based on the visualisation, assess whether linear regression is a suitable model for the data.\n"
   ]
  },
  {
   "cell_type": "code",
   "execution_count": 7,
   "id": "ad52ad95",
   "metadata": {},
   "outputs": [
    {
     "data": {
      "image/png": "[encoded data removed]",
      "text/plain": [
       "<Figure size 640x480 with 1 Axes>"
      ]
     },
     "metadata": {},
     "output_type": "display_data"
    }
   ],
   "source": [
    "import numpy as np\n",
    "import matplotlib.pyplot as plt\n",
    "\n",
    "# Data arrays\n",
    "average_temperature  = np.array([5, 8, 11, 13, 18, 24, 24, 28, 32, 36])\n",
    "solar_output = np.array([2.2, 1.8, 2.5, 3.0, 4.5, 5.3, 5.8, 4.2, 2.5, 4.0])\n",
    "\n",
    "# Creating the scatter plot\n",
    "plt.scatter(average_temperature , solar_output)\n",
    "plt.xlabel('Average temperature')\n",
    "plt.ylabel('Solar Panel Output (kWh)')\n",
    "plt.title('Average temperature vs. Solar panel output')\n",
    "plt.show()\n"
   ]
  },
  {
   "cell_type": "markdown",
   "id": "dc9b7dc6",
   "metadata": {},
   "source": [
    "### Exercise 2\n",
    "\n",
    "The agricultural department is interested in predicting crop yield based on annual rainfall. You are tasked with creating a predictive model using simple linear regression.\n",
    "\n",
    "1. Convert the provided lists into `NumPy` arrays named `annual_rainfall` and `agricultural_yield`.\n",
    "2. Fit a simple linear regression model using sklearn's `LinearRegression`.\n",
    "3. Predict the agricultural yield for a year with `1150` mm of annual rainfall.\n",
    "4. Print the predicted yield."
   ]
  },
  {
   "cell_type": "code",
   "execution_count": 9,
   "id": "09386d51",
   "metadata": {},
   "outputs": [
    {
     "name": "stdout",
     "output_type": "stream",
     "text": [
      "Predicted agricultural yield for 1150 mm of annual rainfall: 4.45 tons per hectare\n"
     ]
    }
   ],
   "source": [
    "import numpy as np\n",
    "from sklearn.linear_model import LinearRegression\n",
    "\n",
    "# Data arrays\n",
    "annual_rainfall = np.array([800, 1200, 1000, 1500, 1100, 1300, 900, 1400, 950, 1250]).reshape(-1, 1)\n",
    "agricultural_yield = np.array([3.2, 4.8, 4.0, 5.5, 4.2, 5.0, 3.5, 5.3, 3.8, 4.9])\n",
    "\n",
    "# Fitting the model\n",
    "model = LinearRegression()\n",
    "model.fit(annual_rainfall, agricultural_yield)\n",
    "\n",
    "# Predicting for 1150 mm of annual rainfall\n",
    "predicted_yield = model.predict(np.array([[1150]]))\n",
    "print(f'Predicted agricultural yield for 1150 mm of annual rainfall: {predicted_yield[0]:.2f} tons per hectare')\n"
   ]
  },
  {
   "cell_type": "markdown",
   "id": "7426e163",
   "metadata": {},
   "source": [
    "### Exercise 3\n",
    "\n",
    "A city's environmental protection agency has collected data on daily traffic volume and air pollution levels. Your task is to evaluate the performance of a linear regression model that predicts air pollution levels from traffic volume.\n",
    "\n",
    "1. Use the provided data to fit a simple linear regression model with `traffic_volume` as the independent variable and `pollution_levels` as the dependent variable.\n",
    "2. Calculate the mean squared error (MSE) and R-squared value of your model.\n",
    "3. Print the MSE and R-squared value, interpreting what they indicate about your model's performance.\n"
   ]
  },
  {
   "cell_type": "code",
   "execution_count": 11,
   "id": "fcf6fc38",
   "metadata": {},
   "outputs": [
    {
     "name": "stdout",
     "output_type": "stream",
     "text": [
      "Mean Squared Error: 2.51\n",
      "R-squared: 0.98\n"
     ]
    }
   ],
   "source": [
    "import numpy as np\n",
    "from sklearn.linear_model import LinearRegression\n",
    "from sklearn.metrics import mean_squared_error, r2_score\n",
    "\n",
    "# Data arrays\n",
    "traffic_volume = np.array([1500, 2500, 2000, 3000, 3500, 1800, 4000, 2200, 2800, 3200]).reshape(-1, 1)\n",
    "pollution_levels = np.array([35, 50, 45, 60, 65, 38, 70, 48, 55, 62])\n",
    "\n",
    "# Fitting the model\n",
    "model = LinearRegression()\n",
    "model.fit(traffic_volume, pollution_levels)\n",
    "\n",
    "# Making predictions\n",
    "predictions = model.predict(traffic_volume)\n",
    "\n",
    "# Calculating MSE and R-squared\n",
    "mse = mean_squared_error(pollution_levels, predictions)\n",
    "r_squared = r2_score(pollution_levels, predictions)\n",
    "\n",
    "print(f'Mean Squared Error: {mse:.2f}')\n",
    "print(f'R-squared: {r_squared:.2f}')"
   ]
  },
  {
   "cell_type": "markdown",
   "id": "26fd094b-0fee-46f1-a4b8-73766813c42b",
   "metadata": {
    "tags": []
   },
   "source": [
    "#  \n",
    "\n",
    "<div align=\"center\" style=\" font-size: 80%; text-align: center; margin: 0 auto\">\n",
    "<img src=\"https://raw.githubusercontent.com/Explore-AI/Pictures/master/ExploreAI_logos/EAI_Blue_Dark.png\"  style=\"width:200px\";/>\n",
    "</div>"
   ]
  }
 ],
 "metadata": {
  "kernelspec": {
   "display_name": "Python 3 (ipykernel)",
   "language": "python",
   "name": "python3"
  },
  "language_info": {
   "codemirror_mode": {
    "name": "ipython",
    "version": 3
   },
   "file_extension": ".py",
   "mimetype": "text/x-python",
   "name": "python",
   "nbconvert_exporter": "python",
   "pygments_lexer": "ipython3",
   "version": "3.12.4"
  }
 },
 "nbformat": 4,
 "nbformat_minor": 5
}
